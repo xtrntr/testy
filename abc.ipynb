{
 "cells": [
  {
   "cell_type": "code",
   "execution_count": 1,
   "id": "ccc48df2",
   "metadata": {},
   "outputs": [],
   "source": [
    "import pandas as pd\n",
    "import json\n",
    "import sys\n",
    "import re\n",
    "sys.path.append('../ltools')\n",
    "from ltools.geo_tools import *"
   ]
  },
  {
   "cell_type": "code",
   "execution_count": null,
   "id": "609651eb",
   "metadata": {},
   "outputs": [],
   "source": [
    "CLEANR = re.compile('<.*?>') \n",
    "\n",
    "def get_rc_name(raw_html):\n",
    "    cleantext = re.sub(CLEANR, '', raw_html)\n",
    "    return cleantext.split('PHOTOURL')[0].split('LANDYADDRESSPOINT')[1].split('NAME')[1].strip()"
   ]
  },
  {
   "cell_type": "code",
   "execution_count": 57,
   "id": "0da6f63f",
   "metadata": {},
   "outputs": [],
   "source": [
    "# get name and coords\n",
    "geojson = json.load(open('rc data/residents-committees-geojson.geojson', 'r'))\n",
    "name_coord_ls = []\n",
    "for feat in geojson['features']:\n",
    "    description = feat['properties']['Description']\n",
    "    name = get_rc_name(description)\n",
    "    long, lat, _ = feat['geometry']['coordinates']\n",
    "    name_coord_ls.append((name, long, lat))\n",
    "\n",
    "pd.DataFrame(name_coord_ls, columns=['name', 'long', 'lat']).to_csv('rc_name_coords.csv', index=False)"
   ]
  },
  {
   "cell_type": "code",
   "execution_count": 44,
   "id": "955fb74f",
   "metadata": {},
   "outputs": [],
   "source": [
    "import requests\n",
    "import pandas as pd\n",
    "from geopy import distance"
   ]
  },
  {
   "cell_type": "code",
   "execution_count": 98,
   "id": "60e9a5a9",
   "metadata": {},
   "outputs": [],
   "source": [
    "rc_location = pd.read_csv('rc_name_coords_link.csv')\n",
    "rc_location['group_link'] = 'not_created'\n",
    "rc_location.loc[rc_location['name'] == 'Kolam Ayer Geylang Bahru RC', 'group_link'] = 'https://t.me/+PAQoBVE2EIRkYzkx'\n",
    "rc_location.to_csv('rc_name_coords_link.csv', index=False)"
   ]
  },
  {
   "cell_type": "code",
   "execution_count": 93,
   "id": "24b59339",
   "metadata": {},
   "outputs": [],
   "source": [
    "rc_location = pd.read_csv('rc_name_coords_link.csv')\n",
    "\n",
    "def get_addr_lat_lng(postal_code):\n",
    "    query = {'searchVal':postal_code, 'returnGeom': 'Y', 'getAddrDetails':'Y'}\n",
    "    api = 'https://developers.onemap.sg/commonapi/search'\n",
    "    response = requests.get(api, params=query)\n",
    "    res = response.json()['results'][0] # take the first result\n",
    "    addr = res['ADDRESS'].title()\n",
    "    lat, lng = res['LATITUDE'], res['LONGITUDE']\n",
    "    \n",
    "    return addr, float(lat), float(lng)\n",
    "\n",
    "def find_closest_rc(lat, lng, rc_pd):\n",
    "    min_dist = 9999\n",
    "    chosen_rc = ''\n",
    "    link = ''\n",
    "    for _, row in rc_pd.iterrows():\n",
    "        rc_lat, rc_long = row['lat'], row['long']\n",
    "        curr_dist = distance.distance((lat, lng), (rc_lat, rc_long)).kilometers\n",
    "        if curr_dist < min_dist:\n",
    "            chosen_rc = row['name']\n",
    "            min_dist = curr_dist\n",
    "            link = row['group_link']\n",
    "    return chosen_rc, link"
   ]
  },
  {
   "cell_type": "code",
   "execution_count": 95,
   "id": "cb91c248",
   "metadata": {},
   "outputs": [],
   "source": [
    "addr, lat, lng = get_addr_lat_lng('330054')\n",
    "group_name, group_link = find_closest_rc(lat, lng, rc_location)"
   ]
  },
  {
   "cell_type": "code",
   "execution_count": 97,
   "id": "e19231ad",
   "metadata": {},
   "outputs": [
    {
     "data": {
      "text/plain": [
       "('Kolam Ayer Geylang Bahru RC', 'https://t.me/+PAQoBVE2EIRkYzkx')"
      ]
     },
     "execution_count": 97,
     "metadata": {},
     "output_type": "execute_result"
    }
   ],
   "source": [
    "group_name, group_link"
   ]
  },
  {
   "cell_type": "code",
   "execution_count": 23,
   "id": "e160cdd1",
   "metadata": {},
   "outputs": [
    {
     "ename": "NameError",
     "evalue": "name 'pd' is not defined",
     "output_type": "error",
     "traceback": [
      "\u001b[0;31m---------------------------------------------------------------------------\u001b[0m",
      "\u001b[0;31mNameError\u001b[0m                                 Traceback (most recent call last)",
      "\u001b[0;32m/tmp/ipykernel_7937/2132155747.py\u001b[0m in \u001b[0;36m<module>\u001b[0;34m\u001b[0m\n\u001b[0;32m----> 1\u001b[0;31m \u001b[0mcoords\u001b[0m \u001b[0;34m=\u001b[0m \u001b[0mpd\u001b[0m\u001b[0;34m.\u001b[0m\u001b[0mread_csv\u001b[0m\u001b[0;34m(\u001b[0m\u001b[0;34m''\u001b[0m\u001b[0;34m)\u001b[0m\u001b[0;34m\u001b[0m\u001b[0;34m\u001b[0m\u001b[0m\n\u001b[0m",
      "\u001b[0;31mNameError\u001b[0m: name 'pd' is not defined"
     ]
    }
   ],
   "source": [
    "coords = pd.read_csv('')"
   ]
  },
  {
   "cell_type": "code",
   "execution_count": 22,
   "id": "48b8a6aa",
   "metadata": {},
   "outputs": [],
   "source": []
  },
  {
   "cell_type": "code",
   "execution_count": 39,
   "id": "16751c59",
   "metadata": {},
   "outputs": [
    {
     "data": {
      "text/plain": [
       "Distance(0.0)"
      ]
     },
     "execution_count": 39,
     "metadata": {},
     "output_type": "execute_result"
    }
   ],
   "source": [
    "distance()"
   ]
  },
  {
   "cell_type": "code",
   "execution_count": 19,
   "id": "8c7c8732",
   "metadata": {},
   "outputs": [
    {
     "ename": "AttributeError",
     "evalue": "module 'geopy.distance' has no attribute 'vincenty'",
     "output_type": "error",
     "traceback": [
      "\u001b[0;31m---------------------------------------------------------------------------\u001b[0m",
      "\u001b[0;31mAttributeError\u001b[0m                            Traceback (most recent call last)",
      "\u001b[0;32m/tmp/ipykernel_7937/1832803997.py\u001b[0m in \u001b[0;36m<module>\u001b[0;34m\u001b[0m\n\u001b[0;32m----> 1\u001b[0;31m \u001b[0mgeopy\u001b[0m\u001b[0;34m.\u001b[0m\u001b[0mdistance\u001b[0m\u001b[0;34m.\u001b[0m\u001b[0mvincenty\u001b[0m\u001b[0;34m(\u001b[0m\u001b[0mcoords_1\u001b[0m\u001b[0;34m,\u001b[0m \u001b[0mcoords_2\u001b[0m\u001b[0;34m)\u001b[0m\u001b[0;34m.\u001b[0m\u001b[0mkm\u001b[0m\u001b[0;34m\u001b[0m\u001b[0;34m\u001b[0m\u001b[0m\n\u001b[0m",
      "\u001b[0;31mAttributeError\u001b[0m: module 'geopy.distance' has no attribute 'vincenty'"
     ]
    }
   ],
   "source": [
    "geopy.distance.vincenty(coords_1, coords_2).km"
   ]
  },
  {
   "cell_type": "code",
   "execution_count": null,
   "id": "1337fe04",
   "metadata": {},
   "outputs": [],
   "source": [
    "rc_coords = "
   ]
  },
  {
   "cell_type": "code",
   "execution_count": null,
   "id": "4312fcb1",
   "metadata": {},
   "outputs": [],
   "source": []
  },
  {
   "cell_type": "code",
   "execution_count": 15,
   "id": "c10ba8f3",
   "metadata": {},
   "outputs": [
    {
     "data": {
      "text/plain": [
       "('54 Geylang Bahru Geylang Bahru Riverpoint Singapore 330054',\n",
       " 1.32388371941336,\n",
       " 103.867864793507)"
      ]
     },
     "execution_count": 15,
     "metadata": {},
     "output_type": "execute_result"
    }
   ],
   "source": [
    "get_addr_lat_lng('330054')"
   ]
  },
  {
   "cell_type": "code",
   "execution_count": 11,
   "id": "3ad9d909",
   "metadata": {},
   "outputs": [
    {
     "name": "stdout",
     "output_type": "stream",
     "text": [
      "54 Geylang Bahru Geylang Bahru Riverpoint Singapore 330054 1.32388371941336 103.867864793507\n",
      "<Response [200]>\n",
      "{'found': 1, 'totalNumPages': 1, 'pageNum': 1, 'results': [{'SEARCHVAL': 'GEYLANG BAHRU RIVERPOINT', 'BLK_NO': '54', 'ROAD_NAME': 'GEYLANG BAHRU', 'BUILDING': 'GEYLANG BAHRU RIVERPOINT', 'ADDRESS': '54 GEYLANG BAHRU GEYLANG BAHRU RIVERPOINT SINGAPORE 330054', 'POSTAL': '330054', 'X': '31844.6475595888', 'Y': '34013.8791604191', 'LATITUDE': '1.32388371941336', 'LONGITUDE': '103.867864793507', 'LONGTITUDE': '103.867864793507'}]}\n"
     ]
    }
   ],
   "source": [
    "postal_code = '330054'\n",
    "query = {'searchVal':postal_code, 'returnGeom': 'Y', 'getAddrDetails':'Y'}\n",
    "api = 'https://developers.onemap.sg/commonapi/search'\n",
    "response = requests.get(api, params=query)\n",
    "res = response.json()['results'][0] # take the first result\n",
    "addr = res['ADDRESS'].title()\n",
    "lat, lng = res['LATITUDE'], res['LONGITUDE']\n",
    "print(addr, lat, lng)\n",
    "print(response)\n",
    "print(response.json())"
   ]
  },
  {
   "cell_type": "code",
   "execution_count": 64,
   "id": "e37570d0",
   "metadata": {},
   "outputs": [],
   "source": [
    "# get lat long from postal code\n",
    "\n",
    "# match to nearest rc"
   ]
  },
  {
   "cell_type": "code",
   "execution_count": 46,
   "id": "7799f5a1",
   "metadata": {},
   "outputs": [],
   "source": [
    "# get user interests"
   ]
  },
  {
   "cell_type": "code",
   "execution_count": 47,
   "id": "fb703146",
   "metadata": {},
   "outputs": [
    {
     "data": {
      "text/plain": [
       "'Zhenghua-Jelapang RC'"
      ]
     },
     "execution_count": 47,
     "metadata": {},
     "output_type": "execute_result"
    }
   ],
   "source": [
    "cleanhtml(description)"
   ]
  },
  {
   "cell_type": "code",
   "execution_count": null,
   "id": "024c9185",
   "metadata": {},
   "outputs": [],
   "source": [
    "def parse_name(description):\n",
    "    "
   ]
  },
  {
   "cell_type": "code",
   "execution_count": 21,
   "id": "842432a3",
   "metadata": {},
   "outputs": [],
   "source": [
    "description = geojson['features'][0]['properties']['Description']\n",
    "# parse_name(description)"
   ]
  },
  {
   "cell_type": "code",
   "execution_count": null,
   "id": "2d86815f",
   "metadata": {},
   "outputs": [],
   "source": []
  }
 ],
 "metadata": {
  "kernelspec": {
   "display_name": "Python 3 (ipykernel)",
   "language": "python",
   "name": "python3"
  },
  "language_info": {
   "codemirror_mode": {
    "name": "ipython",
    "version": 3
   },
   "file_extension": ".py",
   "mimetype": "text/x-python",
   "name": "python",
   "nbconvert_exporter": "python",
   "pygments_lexer": "ipython3",
   "version": "3.8.10"
  }
 },
 "nbformat": 4,
 "nbformat_minor": 5
}
